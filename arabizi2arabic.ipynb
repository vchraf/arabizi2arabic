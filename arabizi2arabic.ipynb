{
  "nbformat": 4,
  "nbformat_minor": 0,
  "metadata": {
    "colab": {
      "name": " arabizi2arabic.ipynb",
      "provenance": []
    },
    "kernelspec": {
      "name": "python3",
      "display_name": "Python 3"
    },
    "language_info": {
      "name": "python"
    }
  },
  "cells": [
    {
      "cell_type": "code",
      "source": [
        "pip install langdetect"
      ],
      "metadata": {
        "id": "6oQoaWTKUVYY"
      },
      "execution_count": null,
      "outputs": []
    },
    {
      "cell_type": "code",
      "source": [
        "pip install deep-translator"
      ],
      "metadata": {
        "id": "EFAcqsCIUzwN"
      },
      "execution_count": null,
      "outputs": []
    },
    {
      "cell_type": "code",
      "source": [
        "import pandas as pd\n",
        "import numpy as np\n",
        "import json\n",
        "import requests\n",
        "from deep_translator import GoogleTranslator \n",
        "from langdetect import detect\n",
        "import re"
      ],
      "metadata": {
        "id": "7_WWzEiaUF8s"
      },
      "execution_count": 15,
      "outputs": []
    },
    {
      "cell_type": "code",
      "execution_count": 36,
      "metadata": {
        "id": "_6ch5I19ROo_"
      },
      "outputs": [],
      "source": [
        "def LAT2AR(word):\n",
        "  path = \"https://api.yamli.com/transliterate.ashx?word={}&tool=api&account_id=000006&prot=https:&hostname=www.yamli.com&path=/&build=5515\".format(word)\n",
        "  response = requests.get(path)\n",
        "  html = response.content\n",
        "  try:\n",
        "    newWord = json.loads(html.decode(\"utf-8\"))[\"r\"].split(\"|\")[0].rsplit('/',1)[0]\n",
        "  except:\n",
        "    return word\n",
        "  return (word if newWord == \"\"  else newWord)"
      ]
    },
    {
      "cell_type": "code",
      "source": [
        "def translate(text):\n",
        "  newtext = []\n",
        "  text = re.sub(r\"[,.;@/#?\\!&$]+\\ *\", \" \", text)\n",
        "  text = text.split(' ')\n",
        "  blist = [1 if (len(txt)>1 and detect(txt) in['fr','en']) else 0 for txt in text]\n",
        "  try:\n",
        "    for i in range(len(blist)):\n",
        "      if blist[i] == 1:\n",
        "        newtext.append(GoogleTranslator(source='auto', target='ar').translate(text[i]))\n",
        "      else:\n",
        "        newtext.append(LAT2AR(text[i].strip()))\n",
        "  except:\n",
        "    print(text[i])\n",
        "    newtext.append(LAT2AR(text[i].strip()))\n",
        "\n",
        "  return ' '.join(newtext)"
      ],
      "metadata": {
        "id": "vk5rZqaCUCUd"
      },
      "execution_count": 37,
      "outputs": []
    },
    {
      "cell_type": "code",
      "source": [
        "translate(\"hadchi kai5dm mziane mramra\")"
      ],
      "metadata": {
        "colab": {
          "base_uri": "https://localhost:8080/",
          "height": 35
        },
        "id": "ls7eEwy0UjXB",
        "outputId": "d780a760-8920-4462-e8f3-c6e5f71870e5"
      },
      "execution_count": 42,
      "outputs": [
        {
          "output_type": "execute_result",
          "data": {
            "text/plain": [
              "'هادشي كيخدم مزيان مرمرة'"
            ],
            "application/vnd.google.colaboratory.intrinsic+json": {
              "type": "string"
            }
          },
          "metadata": {},
          "execution_count": 42
        }
      ]
    }
  ]
}